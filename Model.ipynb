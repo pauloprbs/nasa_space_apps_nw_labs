{
 "cells": [
  {
   "cell_type": "code",
   "execution_count": null,
   "metadata": {},
   "outputs": [],
   "source": [
    "import torch\n",
    "import torch.nn as nn\n",
    "import matplotlib.pyplot as plt\n",
    "import numpy as np\n",
    "import pandas as pd\n",
    "import optuna\n",
    "from Optimizer import Optimizer\n"
   ]
  },
  {
   "cell_type": "code",
   "execution_count": 2,
   "metadata": {},
   "outputs": [],
   "source": [
    "# define above variables in the main code\n",
    "in_features = 10\n",
    "BATCHSIZE = 64\n",
    "CLASSES = 2\n",
    "DIR = 'data/'\n",
    "EPOCHS = 100\n",
    "N_TRAIN_EXAMPLES = 1000\n",
    "N_VALID_EXAMPLES = 100\n",
    "predict_event = True\n"
   ]
  },
  {
   "cell_type": "code",
   "execution_count": null,
   "metadata": {},
   "outputs": [],
   "source": [
    "study = optuna.create_study()\n",
    "objective = Optimizer(in_features,BATCHSIZE,CLASSES,DIR,EPOCHS,N_TRAIN_EXAMPLES,N_VALID_EXAMPLES,predict_event).objective\n",
    "study.optimize(objective, n_trials=100, timeout=600)\n",
    "\n",
    "print(\"Study statistics: \")\n",
    "print(\"  Number of finished trials: \", len(study.trials))\n",
    "print(\"  Number of pruned trials: \", len([t for t in study.trials if t.state == optuna.structs.TrialState.PRUNED]))\n",
    "print(\"  Number of complete trials: \", len([t for t in study.trials if t.state == optuna.structs.TrialState.COMPLETE]))\n",
    "\n",
    "print(\"Best trial:\")\n",
    "trial = study.best_trial\n",
    "\n",
    "print(\"  Value: \", trial.value)\n",
    "\n",
    "print(\"  Params: \")\n",
    "for key, value in trial.params.items():\n",
    "    print(\"    {}: {}\".format(key, value))"
   ]
  }
 ],
 "metadata": {
  "kernelspec": {
   "display_name": "Nasa",
   "language": "python",
   "name": "python3"
  },
  "language_info": {
   "codemirror_mode": {
    "name": "ipython",
    "version": 3
   },
   "file_extension": ".py",
   "mimetype": "text/x-python",
   "name": "python",
   "nbconvert_exporter": "python",
   "pygments_lexer": "ipython3",
   "version": "3.12.7"
  }
 },
 "nbformat": 4,
 "nbformat_minor": 2
}
